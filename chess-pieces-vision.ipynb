{
 "cells": [
  {
   "cell_type": "markdown",
   "id": "dc4d1bfc",
   "metadata": {},
   "source": [
    "## Chess pieces classification with Convolutional Neural Networks\n",
    "\n",
    "Using Kaggle's Chess pieces dataset (85x85): https://www.kaggle.com/datasets/s4lman/chess-pieces-dataset-85x85"
   ]
  },
  {
   "cell_type": "markdown",
   "id": "22122f66",
   "metadata": {},
   "source": [
    "## Dependencies"
   ]
  },
  {
   "cell_type": "code",
   "execution_count": 1,
   "id": "1250a50f",
   "metadata": {},
   "outputs": [],
   "source": [
    "import os \n",
    "import random\n",
    "import shutil\n",
    "import zipfile\n",
    "import numpy as np\n",
    "import pandas as pd\n",
    "import matplotlib.pyplot as plt\n",
    "import matplotlib.image as mpimg"
   ]
  },
  {
   "cell_type": "markdown",
   "id": "6ea2743b",
   "metadata": {},
   "source": [
    "## Obtaining the data"
   ]
  },
  {
   "cell_type": "code",
   "execution_count": 2,
   "id": "4a11cec6",
   "metadata": {},
   "outputs": [],
   "source": [
    "PATH = 'data'\n",
    "os.chdir(PATH)"
   ]
  },
  {
   "cell_type": "code",
   "execution_count": 3,
   "id": "580bded8",
   "metadata": {},
   "outputs": [],
   "source": [
    "# Unzip the dataset\n",
    "zip_ref = zipfile.ZipFile('archive.zip')\n",
    "zip_ref.extractall()\n",
    "zip_ref.close()"
   ]
  },
  {
   "cell_type": "code",
   "execution_count": 4,
   "id": "ca62a892",
   "metadata": {},
   "outputs": [],
   "source": [
    "TRAIN_PROP = 0.8\n",
    "TEST_PROP = 0.2\n",
    "BATCH_SIZE = 32"
   ]
  },
  {
   "cell_type": "code",
   "execution_count": 5,
   "id": "80e786c5",
   "metadata": {},
   "outputs": [],
   "source": [
    "class_names = os.listdir('data')\n",
    "\n",
    "for class_name in class_names:\n",
    "    if os.path.isdir(f'train/{class_name}') is False:\n",
    "        os.makedirs(f'train/{class_name}')\n",
    "    if os.path.isdir(f'test/{class_name}') is False:\n",
    "        os.makedirs(f'test/{class_name}')"
   ]
  },
  {
   "cell_type": "code",
   "execution_count": 6,
   "id": "f7735fa1",
   "metadata": {},
   "outputs": [
    {
     "data": {
      "text/plain": [
       "6"
      ]
     },
     "execution_count": 6,
     "metadata": {},
     "output_type": "execute_result"
    }
   ],
   "source": [
    "len(class_names)"
   ]
  },
  {
   "cell_type": "code",
   "execution_count": 7,
   "id": "aa6e4437",
   "metadata": {},
   "outputs": [
    {
     "data": {
      "text/plain": [
       "[67, 34, 71, 239, 34, 72]"
      ]
     },
     "execution_count": 7,
     "metadata": {},
     "output_type": "execute_result"
    }
   ],
   "source": [
    "class_sizes = []\n",
    "for i in range(len(class_names)):\n",
    "    path = os.path.join(PATH, f'{class_names[i]}')\n",
    "    class_sizes.append(len(os.listdir(path)))\n",
    "\n",
    "class_sizes"
   ]
  },
  {
   "cell_type": "code",
   "execution_count": 8,
   "id": "e82bfc75",
   "metadata": {},
   "outputs": [
    {
     "data": {
      "text/plain": [
       "[('bishop', 67),\n",
       " ('king', 34),\n",
       " ('knight', 71),\n",
       " ('pawn', 239),\n",
       " ('queen', 34),\n",
       " ('rook', 72)]"
      ]
     },
     "execution_count": 8,
     "metadata": {},
     "output_type": "execute_result"
    }
   ],
   "source": [
    "classes = list(zip(class_names, class_sizes))\n",
    "classes"
   ]
  },
  {
   "cell_type": "markdown",
   "id": "5d1f2a3f",
   "metadata": {},
   "source": [
    "## Moving random sample of 80% to train folders"
   ]
  },
  {
   "cell_type": "code",
   "execution_count": 9,
   "id": "39a7a527",
   "metadata": {},
   "outputs": [
    {
     "name": "stdout",
     "output_type": "stream",
     "text": [
      "Moving data\\bishop\\69.png ===> train\\bishop\\69.png\n",
      "Moving data\\bishop\\83.png ===> train\\bishop\\83.png\n",
      "Moving data\\bishop\\35.png ===> train\\bishop\\35.png\n",
      "Moving data\\bishop\\49.png ===> train\\bishop\\49.png\n",
      "Moving data\\bishop\\37.png ===> train\\bishop\\37.png\n",
      "Moving data\\bishop\\66.png ===> train\\bishop\\66.png\n",
      "Moving data\\bishop\\53.png ===> train\\bishop\\53.png\n",
      "Moving data\\bishop\\72.png ===> train\\bishop\\72.png\n",
      "Moving data\\bishop\\36.png ===> train\\bishop\\36.png\n",
      "Moving data\\bishop\\67.png ===> train\\bishop\\67.png\n",
      "Moving data\\bishop\\41.png ===> train\\bishop\\41.png\n",
      "Moving data\\bishop\\76.png ===> train\\bishop\\76.png\n",
      "Moving data\\bishop\\46.png ===> train\\bishop\\46.png\n",
      "Moving data\\bishop\\59.png ===> train\\bishop\\59.png\n",
      "Moving data\\bishop\\58.png ===> train\\bishop\\58.png\n",
      "Moving data\\bishop\\86.png ===> train\\bishop\\86.png\n",
      "Moving data\\bishop\\87.png ===> train\\bishop\\87.png\n",
      "Moving data\\bishop\\43.png ===> train\\bishop\\43.png\n",
      "Moving data\\bishop\\82.png ===> train\\bishop\\82.png\n",
      "Moving data\\bishop\\65.png ===> train\\bishop\\65.png\n",
      "Moving data\\bishop\\74.png ===> train\\bishop\\74.png\n",
      "Moving data\\bishop\\51.png ===> train\\bishop\\51.png\n",
      "Moving data\\bishop\\50.png ===> train\\bishop\\50.png\n",
      "Moving data\\bishop\\40.png ===> train\\bishop\\40.png\n",
      "Moving data\\bishop\\52.png ===> train\\bishop\\52.png\n",
      "Moving data\\bishop\\71.png ===> train\\bishop\\71.png\n",
      "Moving data\\bishop\\84.png ===> train\\bishop\\84.png\n",
      "Moving data\\bishop\\79.png ===> train\\bishop\\79.png\n",
      "Moving data\\bishop\\93.png ===> train\\bishop\\93.png\n",
      "Moving data\\bishop\\101.png ===> train\\bishop\\101.png\n",
      "Moving data\\bishop\\44.png ===> train\\bishop\\44.png\n",
      "Moving data\\bishop\\39.png ===> train\\bishop\\39.png\n",
      "Moving data\\bishop\\97.png ===> train\\bishop\\97.png\n",
      "Moving data\\bishop\\94.png ===> train\\bishop\\94.png\n",
      "Moving data\\bishop\\70.png ===> train\\bishop\\70.png\n",
      "Moving data\\bishop\\90.png ===> train\\bishop\\90.png\n",
      "Moving data\\bishop\\55.png ===> train\\bishop\\55.png\n",
      "Moving data\\bishop\\92.png ===> train\\bishop\\92.png\n",
      "Moving data\\bishop\\48.png ===> train\\bishop\\48.png\n",
      "Moving data\\bishop\\47.png ===> train\\bishop\\47.png\n",
      "Moving data\\bishop\\62.png ===> train\\bishop\\62.png\n",
      "Moving data\\bishop\\88.png ===> train\\bishop\\88.png\n",
      "Moving data\\bishop\\81.png ===> train\\bishop\\81.png\n",
      "Moving data\\bishop\\57.png ===> train\\bishop\\57.png\n",
      "Moving data\\bishop\\42.png ===> train\\bishop\\42.png\n",
      "Moving data\\bishop\\73.png ===> train\\bishop\\73.png\n",
      "Moving data\\bishop\\75.png ===> train\\bishop\\75.png\n",
      "Moving data\\bishop\\78.png ===> train\\bishop\\78.png\n",
      "Moving data\\bishop\\38.png ===> train\\bishop\\38.png\n",
      "Moving data\\bishop\\85.png ===> train\\bishop\\85.png\n",
      "Moving data\\bishop\\34.png ===> train\\bishop\\34.png\n",
      "Moving data\\bishop\\98.png ===> train\\bishop\\98.png\n",
      "Moving data\\bishop\\91.png ===> train\\bishop\\91.png\n",
      "Moving data\\king\\22.png ===> train\\king\\22.png\n",
      "Moving data\\king\\491.png ===> train\\king\\491.png\n",
      "Moving data\\king\\20.png ===> train\\king\\20.png\n",
      "Moving data\\king\\8.png ===> train\\king\\8.png\n",
      "Moving data\\king\\2.png ===> train\\king\\2.png\n",
      "Moving data\\king\\31.png ===> train\\king\\31.png\n",
      "Moving data\\king\\23.png ===> train\\king\\23.png\n",
      "Moving data\\king\\16.png ===> train\\king\\16.png\n",
      "Moving data\\king\\6.png ===> train\\king\\6.png\n",
      "Moving data\\king\\30.png ===> train\\king\\30.png\n",
      "Moving data\\king\\9.png ===> train\\king\\9.png\n",
      "Moving data\\king\\3.png ===> train\\king\\3.png\n",
      "Moving data\\king\\21.png ===> train\\king\\21.png\n",
      "Moving data\\king\\12.png ===> train\\king\\12.png\n",
      "Moving data\\king\\18.png ===> train\\king\\18.png\n",
      "Moving data\\king\\32.png ===> train\\king\\32.png\n",
      "Moving data\\king\\7.png ===> train\\king\\7.png\n",
      "Moving data\\king\\29.png ===> train\\king\\29.png\n",
      "Moving data\\king\\28.png ===> train\\king\\28.png\n",
      "Moving data\\king\\5.png ===> train\\king\\5.png\n",
      "Moving data\\king\\33.png ===> train\\king\\33.png\n",
      "Moving data\\king\\0.png ===> train\\king\\0.png\n",
      "Moving data\\king\\14.png ===> train\\king\\14.png\n",
      "Moving data\\king\\1.png ===> train\\king\\1.png\n",
      "Moving data\\king\\17.png ===> train\\king\\17.png\n",
      "Moving data\\king\\19.png ===> train\\king\\19.png\n",
      "Moving data\\king\\13.png ===> train\\king\\13.png\n",
      "Moving data\\knight\\445.png ===> train\\knight\\445.png\n",
      "Moving data\\knight\\484.png ===> train\\knight\\484.png\n",
      "Moving data\\knight\\488.png ===> train\\knight\\488.png\n",
      "Moving data\\knight\\510.png ===> train\\knight\\510.png\n",
      "Moving data\\knight\\497.png ===> train\\knight\\497.png\n",
      "Moving data\\knight\\501.png ===> train\\knight\\501.png\n",
      "Moving data\\knight\\496.png ===> train\\knight\\496.png\n",
      "Moving data\\knight\\511.png ===> train\\knight\\511.png\n",
      "Moving data\\knight\\454.png ===> train\\knight\\454.png\n",
      "Moving data\\knight\\507.png ===> train\\knight\\507.png\n",
      "Moving data\\knight\\509.png ===> train\\knight\\509.png\n",
      "Moving data\\knight\\455.png ===> train\\knight\\455.png\n",
      "Moving data\\knight\\462.png ===> train\\knight\\462.png\n",
      "Moving data\\knight\\500.png ===> train\\knight\\500.png\n",
      "Moving data\\knight\\456.png ===> train\\knight\\456.png\n",
      "Moving data\\knight\\467.png ===> train\\knight\\467.png\n",
      "Moving data\\knight\\495.png ===> train\\knight\\495.png\n",
      "Moving data\\knight\\451.png ===> train\\knight\\451.png\n",
      "Moving data\\knight\\477.png ===> train\\knight\\477.png\n",
      "Moving data\\knight\\513.png ===> train\\knight\\513.png\n",
      "Moving data\\knight\\504.png ===> train\\knight\\504.png\n",
      "Moving data\\knight\\448.png ===> train\\knight\\448.png\n",
      "Moving data\\knight\\512.png ===> train\\knight\\512.png\n",
      "Moving data\\knight\\461.png ===> train\\knight\\461.png\n",
      "Moving data\\knight\\476.png ===> train\\knight\\476.png\n",
      "Moving data\\knight\\464.png ===> train\\knight\\464.png\n",
      "Moving data\\knight\\458.png ===> train\\knight\\458.png\n",
      "Moving data\\knight\\514.png ===> train\\knight\\514.png\n",
      "Moving data\\knight\\487.png ===> train\\knight\\487.png\n",
      "Moving data\\knight\\457.png ===> train\\knight\\457.png\n",
      "Moving data\\knight\\506.png ===> train\\knight\\506.png\n",
      "Moving data\\knight\\471.png ===> train\\knight\\471.png\n",
      "Moving data\\knight\\480.png ===> train\\knight\\480.png\n",
      "Moving data\\knight\\516.png ===> train\\knight\\516.png\n",
      "Moving data\\knight\\493.png ===> train\\knight\\493.png\n",
      "Moving data\\knight\\505.png ===> train\\knight\\505.png\n",
      "Moving data\\knight\\490.png ===> train\\knight\\490.png\n",
      "Moving data\\knight\\485.png ===> train\\knight\\485.png\n",
      "Moving data\\knight\\473.png ===> train\\knight\\473.png\n",
      "Moving data\\knight\\508.png ===> train\\knight\\508.png\n",
      "Moving data\\knight\\499.png ===> train\\knight\\499.png\n",
      "Moving data\\knight\\486.png ===> train\\knight\\486.png\n",
      "Moving data\\knight\\449.png ===> train\\knight\\449.png\n",
      "Moving data\\knight\\468.png ===> train\\knight\\468.png\n",
      "Moving data\\knight\\453.png ===> train\\knight\\453.png\n",
      "Moving data\\knight\\482.png ===> train\\knight\\482.png\n",
      "Moving data\\knight\\502.png ===> train\\knight\\502.png\n",
      "Moving data\\knight\\481.png ===> train\\knight\\481.png\n",
      "Moving data\\knight\\465.png ===> train\\knight\\465.png\n",
      "Moving data\\knight\\446.png ===> train\\knight\\446.png\n",
      "Moving data\\knight\\479.png ===> train\\knight\\479.png\n",
      "Moving data\\knight\\494.png ===> train\\knight\\494.png\n",
      "Moving data\\knight\\475.png ===> train\\knight\\475.png\n",
      "Moving data\\knight\\469.png ===> train\\knight\\469.png\n",
      "Moving data\\knight\\472.png ===> train\\knight\\472.png\n",
      "Moving data\\knight\\478.png ===> train\\knight\\478.png\n",
      "Moving data\\pawn\\391.png ===> train\\pawn\\391.png\n",
      "Moving data\\pawn\\371.png ===> train\\pawn\\371.png\n",
      "Moving data\\pawn\\311.png ===> train\\pawn\\311.png\n",
      "Moving data\\pawn\\383.png ===> train\\pawn\\383.png\n",
      "Moving data\\pawn\\386.png ===> train\\pawn\\386.png\n",
      "Moving data\\pawn\\292.png ===> train\\pawn\\292.png\n",
      "Moving data\\pawn\\370.png ===> train\\pawn\\370.png\n",
      "Moving data\\pawn\\308.png ===> train\\pawn\\308.png\n",
      "Moving data\\pawn\\255.png ===> train\\pawn\\255.png\n",
      "Moving data\\pawn\\252.png ===> train\\pawn\\252.png\n",
      "Moving data\\pawn\\397.png ===> train\\pawn\\397.png\n",
      "Moving data\\pawn\\249.png ===> train\\pawn\\249.png\n",
      "Moving data\\pawn\\338.png ===> train\\pawn\\338.png\n",
      "Moving data\\pawn\\316.png ===> train\\pawn\\316.png\n",
      "Moving data\\pawn\\263.png ===> train\\pawn\\263.png\n",
      "Moving data\\pawn\\273.png ===> train\\pawn\\273.png\n",
      "Moving data\\pawn\\313.png ===> train\\pawn\\313.png\n",
      "Moving data\\pawn\\345.png ===> train\\pawn\\345.png\n",
      "Moving data\\pawn\\418.png ===> train\\pawn\\418.png\n",
      "Moving data\\pawn\\384.png ===> train\\pawn\\384.png\n",
      "Moving data\\pawn\\329.png ===> train\\pawn\\329.png\n",
      "Moving data\\pawn\\330.png ===> train\\pawn\\330.png\n",
      "Moving data\\pawn\\210.png ===> train\\pawn\\210.png\n",
      "Moving data\\pawn\\395.png ===> train\\pawn\\395.png\n",
      "Moving data\\pawn\\246.png ===> train\\pawn\\246.png\n",
      "Moving data\\pawn\\284.png ===> train\\pawn\\284.png\n",
      "Moving data\\pawn\\282.png ===> train\\pawn\\282.png\n",
      "Moving data\\pawn\\212.png ===> train\\pawn\\212.png\n",
      "Moving data\\pawn\\358.png ===> train\\pawn\\358.png\n",
      "Moving data\\pawn\\368.png ===> train\\pawn\\368.png\n",
      "Moving data\\pawn\\218.png ===> train\\pawn\\218.png\n",
      "Moving data\\pawn\\408.png ===> train\\pawn\\408.png\n",
      "Moving data\\pawn\\274.png ===> train\\pawn\\274.png\n",
      "Moving data\\pawn\\372.png ===> train\\pawn\\372.png\n",
      "Moving data\\pawn\\341.png ===> train\\pawn\\341.png\n",
      "Moving data\\pawn\\306.png ===> train\\pawn\\306.png\n",
      "Moving data\\pawn\\230.png ===> train\\pawn\\230.png\n",
      "Moving data\\pawn\\261.png ===> train\\pawn\\261.png\n",
      "Moving data\\pawn\\440.png ===> train\\pawn\\440.png\n",
      "Moving data\\pawn\\353.png ===> train\\pawn\\353.png\n",
      "Moving data\\pawn\\283.png ===> train\\pawn\\283.png\n",
      "Moving data\\pawn\\294.png ===> train\\pawn\\294.png\n",
      "Moving data\\pawn\\324.png ===> train\\pawn\\324.png\n",
      "Moving data\\pawn\\239.png ===> train\\pawn\\239.png\n",
      "Moving data\\pawn\\378.png ===> train\\pawn\\378.png\n",
      "Moving data\\pawn\\393.png ===> train\\pawn\\393.png\n",
      "Moving data\\pawn\\243.png ===> train\\pawn\\243.png\n",
      "Moving data\\pawn\\319.png ===> train\\pawn\\319.png\n",
      "Moving data\\pawn\\377.png ===> train\\pawn\\377.png\n",
      "Moving data\\pawn\\349.png ===> train\\pawn\\349.png\n",
      "Moving data\\pawn\\351.png ===> train\\pawn\\351.png\n",
      "Moving data\\pawn\\224.png ===> train\\pawn\\224.png\n",
      "Moving data\\pawn\\436.png ===> train\\pawn\\436.png\n",
      "Moving data\\pawn\\441.png ===> train\\pawn\\441.png\n",
      "Moving data\\pawn\\248.png ===> train\\pawn\\248.png\n",
      "Moving data\\pawn\\396.png ===> train\\pawn\\396.png\n",
      "Moving data\\pawn\\207.png ===> train\\pawn\\207.png\n",
      "Moving data\\pawn\\414.png ===> train\\pawn\\414.png\n",
      "Moving data\\pawn\\401.png ===> train\\pawn\\401.png\n",
      "Moving data\\pawn\\242.png ===> train\\pawn\\242.png\n",
      "Moving data\\pawn\\240.png ===> train\\pawn\\240.png\n",
      "Moving data\\pawn\\211.png ===> train\\pawn\\211.png\n",
      "Moving data\\pawn\\321.png ===> train\\pawn\\321.png\n",
      "Moving data\\pawn\\347.png ===> train\\pawn\\347.png\n",
      "Moving data\\pawn\\382.png ===> train\\pawn\\382.png\n",
      "Moving data\\pawn\\373.png ===> train\\pawn\\373.png\n",
      "Moving data\\pawn\\221.png ===> train\\pawn\\221.png\n",
      "Moving data\\pawn\\375.png ===> train\\pawn\\375.png\n",
      "Moving data\\pawn\\394.png ===> train\\pawn\\394.png\n",
      "Moving data\\pawn\\399.png ===> train\\pawn\\399.png\n",
      "Moving data\\pawn\\398.png ===> train\\pawn\\398.png\n",
      "Moving data\\pawn\\342.png ===> train\\pawn\\342.png\n",
      "Moving data\\pawn\\422.png ===> train\\pawn\\422.png\n",
      "Moving data\\pawn\\297.png ===> train\\pawn\\297.png\n",
      "Moving data\\pawn\\387.png ===> train\\pawn\\387.png\n",
      "Moving data\\pawn\\334.png ===> train\\pawn\\334.png\n",
      "Moving data\\pawn\\336.png ===> train\\pawn\\336.png\n",
      "Moving data\\pawn\\25.png ===> train\\pawn\\25.png\n",
      "Moving data\\pawn\\293.png ===> train\\pawn\\293.png\n",
      "Moving data\\pawn\\348.png ===> train\\pawn\\348.png\n",
      "Moving data\\pawn\\322.png ===> train\\pawn\\322.png\n",
      "Moving data\\pawn\\213.png ===> train\\pawn\\213.png\n",
      "Moving data\\pawn\\312.png ===> train\\pawn\\312.png\n",
      "Moving data\\pawn\\410.png ===> train\\pawn\\410.png\n",
      "Moving data\\pawn\\419.png ===> train\\pawn\\419.png\n",
      "Moving data\\pawn\\222.png ===> train\\pawn\\222.png\n",
      "Moving data\\pawn\\259.png ===> train\\pawn\\259.png\n",
      "Moving data\\pawn\\209.png ===> train\\pawn\\209.png\n",
      "Moving data\\pawn\\427.png ===> train\\pawn\\427.png\n",
      "Moving data\\pawn\\325.png ===> train\\pawn\\325.png\n",
      "Moving data\\pawn\\247.png ===> train\\pawn\\247.png\n",
      "Moving data\\pawn\\314.png ===> train\\pawn\\314.png\n",
      "Moving data\\pawn\\323.png ===> train\\pawn\\323.png\n",
      "Moving data\\pawn\\219.png ===> train\\pawn\\219.png\n",
      "Moving data\\pawn\\364.png ===> train\\pawn\\364.png\n",
      "Moving data\\pawn\\254.png ===> train\\pawn\\254.png\n",
      "Moving data\\pawn\\331.png ===> train\\pawn\\331.png\n",
      "Moving data\\pawn\\390.png ===> train\\pawn\\390.png\n",
      "Moving data\\pawn\\256.png ===> train\\pawn\\256.png\n",
      "Moving data\\pawn\\356.png ===> train\\pawn\\356.png\n",
      "Moving data\\pawn\\344.png ===> train\\pawn\\344.png\n",
      "Moving data\\pawn\\260.png ===> train\\pawn\\260.png\n",
      "Moving data\\pawn\\400.png ===> train\\pawn\\400.png\n",
      "Moving data\\pawn\\379.png ===> train\\pawn\\379.png\n",
      "Moving data\\pawn\\277.png ===> train\\pawn\\277.png\n",
      "Moving data\\pawn\\428.png ===> train\\pawn\\428.png\n",
      "Moving data\\pawn\\409.png ===> train\\pawn\\409.png\n",
      "Moving data\\pawn\\402.png ===> train\\pawn\\402.png\n",
      "Moving data\\pawn\\300.png ===> train\\pawn\\300.png\n",
      "Moving data\\pawn\\262.png ===> train\\pawn\\262.png\n",
      "Moving data\\pawn\\303.png ===> train\\pawn\\303.png\n",
      "Moving data\\pawn\\359.png ===> train\\pawn\\359.png\n",
      "Moving data\\pawn\\326.png ===> train\\pawn\\326.png\n",
      "Moving data\\pawn\\424.png ===> train\\pawn\\424.png\n",
      "Moving data\\pawn\\291.png ===> train\\pawn\\291.png\n",
      "Moving data\\pawn\\244.png ===> train\\pawn\\244.png\n",
      "Moving data\\pawn\\340.png ===> train\\pawn\\340.png\n",
      "Moving data\\pawn\\357.png ===> train\\pawn\\357.png\n",
      "Moving data\\pawn\\285.png ===> train\\pawn\\285.png\n",
      "Moving data\\pawn\\241.png ===> train\\pawn\\241.png\n",
      "Moving data\\pawn\\381.png ===> train\\pawn\\381.png\n",
      "Moving data\\pawn\\417.png ===> train\\pawn\\417.png\n",
      "Moving data\\pawn\\406.png ===> train\\pawn\\406.png\n",
      "Moving data\\pawn\\405.png ===> train\\pawn\\405.png\n",
      "Moving data\\pawn\\430.png ===> train\\pawn\\430.png\n",
      "Moving data\\pawn\\220.png ===> train\\pawn\\220.png\n",
      "Moving data\\pawn\\363.png ===> train\\pawn\\363.png\n",
      "Moving data\\pawn\\301.png ===> train\\pawn\\301.png\n",
      "Moving data\\pawn\\443.png ===> train\\pawn\\443.png\n",
      "Moving data\\pawn\\289.png ===> train\\pawn\\289.png\n",
      "Moving data\\pawn\\279.png ===> train\\pawn\\279.png\n",
      "Moving data\\pawn\\223.png ===> train\\pawn\\223.png\n",
      "Moving data\\pawn\\426.png ===> train\\pawn\\426.png\n",
      "Moving data\\pawn\\327.png ===> train\\pawn\\327.png\n",
      "Moving data\\pawn\\389.png ===> train\\pawn\\389.png\n",
      "Moving data\\pawn\\287.png ===> train\\pawn\\287.png\n",
      "Moving data\\pawn\\216.png ===> train\\pawn\\216.png\n",
      "Moving data\\pawn\\403.png ===> train\\pawn\\403.png\n",
      "Moving data\\pawn\\267.png ===> train\\pawn\\267.png\n",
      "Moving data\\pawn\\444.png ===> train\\pawn\\444.png\n",
      "Moving data\\pawn\\337.png ===> train\\pawn\\337.png\n",
      "Moving data\\pawn\\278.png ===> train\\pawn\\278.png\n",
      "Moving data\\pawn\\380.png ===> train\\pawn\\380.png\n",
      "Moving data\\pawn\\350.png ===> train\\pawn\\350.png\n",
      "Moving data\\pawn\\421.png ===> train\\pawn\\421.png\n",
      "Moving data\\pawn\\270.png ===> train\\pawn\\270.png\n",
      "Moving data\\pawn\\392.png ===> train\\pawn\\392.png\n",
      "Moving data\\pawn\\439.png ===> train\\pawn\\439.png\n",
      "Moving data\\pawn\\290.png ===> train\\pawn\\290.png\n",
      "Moving data\\pawn\\416.png ===> train\\pawn\\416.png\n",
      "Moving data\\pawn\\320.png ===> train\\pawn\\320.png\n",
      "Moving data\\pawn\\238.png ===> train\\pawn\\238.png\n",
      "Moving data\\pawn\\315.png ===> train\\pawn\\315.png\n",
      "Moving data\\pawn\\361.png ===> train\\pawn\\361.png\n",
      "Moving data\\pawn\\385.png ===> train\\pawn\\385.png\n",
      "Moving data\\pawn\\369.png ===> train\\pawn\\369.png\n",
      "Moving data\\pawn\\231.png ===> train\\pawn\\231.png\n",
      "Moving data\\pawn\\362.png ===> train\\pawn\\362.png\n",
      "Moving data\\pawn\\276.png ===> train\\pawn\\276.png\n",
      "Moving data\\pawn\\433.png ===> train\\pawn\\433.png\n",
      "Moving data\\pawn\\236.png ===> train\\pawn\\236.png\n",
      "Moving data\\pawn\\226.png ===> train\\pawn\\226.png\n",
      "Moving data\\pawn\\233.png ===> train\\pawn\\233.png\n",
      "Moving data\\pawn\\237.png ===> train\\pawn\\237.png\n",
      "Moving data\\pawn\\265.png ===> train\\pawn\\265.png\n",
      "Moving data\\pawn\\266.png ===> train\\pawn\\266.png\n",
      "Moving data\\pawn\\305.png ===> train\\pawn\\305.png\n",
      "Moving data\\pawn\\271.png ===> train\\pawn\\271.png\n",
      "Moving data\\pawn\\425.png ===> train\\pawn\\425.png\n",
      "Moving data\\pawn\\298.png ===> train\\pawn\\298.png\n",
      "Moving data\\pawn\\343.png ===> train\\pawn\\343.png\n",
      "Moving data\\pawn\\318.png ===> train\\pawn\\318.png\n",
      "Moving data\\pawn\\269.png ===> train\\pawn\\269.png\n",
      "Moving data\\pawn\\280.png ===> train\\pawn\\280.png\n",
      "Moving data\\pawn\\442.png ===> train\\pawn\\442.png\n",
      "Moving data\\pawn\\310.png ===> train\\pawn\\310.png\n",
      "Moving data\\pawn\\355.png ===> train\\pawn\\355.png\n",
      "Moving data\\pawn\\268.png ===> train\\pawn\\268.png\n",
      "Moving data\\pawn\\429.png ===> train\\pawn\\429.png\n",
      "Moving data\\pawn\\438.png ===> train\\pawn\\438.png\n",
      "Moving data\\pawn\\264.png ===> train\\pawn\\264.png\n",
      "Moving data\\pawn\\374.png ===> train\\pawn\\374.png\n",
      "Moving data\\pawn\\360.png ===> train\\pawn\\360.png\n",
      "Moving data\\pawn\\227.png ===> train\\pawn\\227.png\n",
      "Moving data\\pawn\\413.png ===> train\\pawn\\413.png\n",
      "Moving data\\pawn\\258.png ===> train\\pawn\\258.png\n",
      "Moving data\\pawn\\304.png ===> train\\pawn\\304.png\n",
      "Moving data\\pawn\\328.png ===> train\\pawn\\328.png\n",
      "Moving data\\pawn\\235.png ===> train\\pawn\\235.png\n",
      "Moving data\\pawn\\251.png ===> train\\pawn\\251.png\n",
      "Moving data\\pawn\\435.png ===> train\\pawn\\435.png\n",
      "Moving data\\queen\\193.png ===> train\\queen\\193.png\n",
      "Moving data\\queen\\205.png ===> train\\queen\\205.png\n",
      "Moving data\\queen\\180.png ===> train\\queen\\180.png\n",
      "Moving data\\queen\\194.png ===> train\\queen\\194.png\n",
      "Moving data\\queen\\179.png ===> train\\queen\\179.png\n",
      "Moving data\\queen\\206.png ===> train\\queen\\206.png\n",
      "Moving data\\queen\\178.png ===> train\\queen\\178.png\n",
      "Moving data\\queen\\199.png ===> train\\queen\\199.png\n",
      "Moving data\\queen\\181.png ===> train\\queen\\181.png\n",
      "Moving data\\queen\\173.png ===> train\\queen\\173.png\n",
      "Moving data\\queen\\183.png ===> train\\queen\\183.png\n",
      "Moving data\\queen\\186.png ===> train\\queen\\186.png\n",
      "Moving data\\queen\\185.png ===> train\\queen\\185.png\n",
      "Moving data\\queen\\203.png ===> train\\queen\\203.png\n",
      "Moving data\\queen\\198.png ===> train\\queen\\198.png\n",
      "Moving data\\queen\\204.png ===> train\\queen\\204.png\n",
      "Moving data\\queen\\187.png ===> train\\queen\\187.png\n",
      "Moving data\\queen\\202.png ===> train\\queen\\202.png\n",
      "Moving data\\queen\\191.png ===> train\\queen\\191.png\n",
      "Moving data\\queen\\175.png ===> train\\queen\\175.png\n",
      "Moving data\\queen\\184.png ===> train\\queen\\184.png\n",
      "Moving data\\queen\\201.png ===> train\\queen\\201.png\n",
      "Moving data\\queen\\182.png ===> train\\queen\\182.png\n",
      "Moving data\\queen\\189.png ===> train\\queen\\189.png\n",
      "Moving data\\queen\\190.png ===> train\\queen\\190.png\n",
      "Moving data\\queen\\188.png ===> train\\queen\\188.png\n",
      "Moving data\\queen\\192.png ===> train\\queen\\192.png\n",
      "Moving data\\rook\\112.png ===> train\\rook\\112.png\n",
      "Moving data\\rook\\135.png ===> train\\rook\\135.png\n",
      "Moving data\\rook\\163.png ===> train\\rook\\163.png\n",
      "Moving data\\rook\\122.png ===> train\\rook\\122.png\n",
      "Moving data\\rook\\121.png ===> train\\rook\\121.png\n",
      "Moving data\\rook\\110.png ===> train\\rook\\110.png\n",
      "Moving data\\rook\\130.png ===> train\\rook\\130.png\n",
      "Moving data\\rook\\140.png ===> train\\rook\\140.png\n",
      "Moving data\\rook\\144.png ===> train\\rook\\144.png\n",
      "Moving data\\rook\\103.png ===> train\\rook\\103.png\n",
      "Moving data\\rook\\106.png ===> train\\rook\\106.png\n",
      "Moving data\\rook\\147.png ===> train\\rook\\147.png\n",
      "Moving data\\rook\\137.png ===> train\\rook\\137.png\n",
      "Moving data\\rook\\165.png ===> train\\rook\\165.png\n",
      "Moving data\\rook\\146.png ===> train\\rook\\146.png\n",
      "Moving data\\rook\\120.png ===> train\\rook\\120.png\n",
      "Moving data\\rook\\113.png ===> train\\rook\\113.png\n",
      "Moving data\\rook\\125.png ===> train\\rook\\125.png\n",
      "Moving data\\rook\\145.png ===> train\\rook\\145.png\n",
      "Moving data\\rook\\108.png ===> train\\rook\\108.png\n",
      "Moving data\\rook\\139.png ===> train\\rook\\139.png\n",
      "Moving data\\rook\\126.png ===> train\\rook\\126.png\n",
      "Moving data\\rook\\123.png ===> train\\rook\\123.png\n",
      "Moving data\\rook\\151.png ===> train\\rook\\151.png\n",
      "Moving data\\rook\\114.png ===> train\\rook\\114.png\n",
      "Moving data\\rook\\131.png ===> train\\rook\\131.png\n",
      "Moving data\\rook\\171.png ===> train\\rook\\171.png\n",
      "Moving data\\rook\\153.png ===> train\\rook\\153.png\n",
      "Moving data\\rook\\169.png ===> train\\rook\\169.png\n",
      "Moving data\\rook\\96.png ===> train\\rook\\96.png\n",
      "Moving data\\rook\\170.png ===> train\\rook\\170.png\n",
      "Moving data\\rook\\161.png ===> train\\rook\\161.png\n",
      "Moving data\\rook\\132.png ===> train\\rook\\132.png\n",
      "Moving data\\rook\\168.png ===> train\\rook\\168.png\n",
      "Moving data\\rook\\119.png ===> train\\rook\\119.png\n",
      "Moving data\\rook\\107.png ===> train\\rook\\107.png\n",
      "Moving data\\rook\\115.png ===> train\\rook\\115.png\n",
      "Moving data\\rook\\102.png ===> train\\rook\\102.png\n",
      "Moving data\\rook\\128.png ===> train\\rook\\128.png\n",
      "Moving data\\rook\\167.png ===> train\\rook\\167.png\n",
      "Moving data\\rook\\159.png ===> train\\rook\\159.png\n",
      "Moving data\\rook\\155.png ===> train\\rook\\155.png\n",
      "Moving data\\rook\\133.png ===> train\\rook\\133.png\n",
      "Moving data\\rook\\166.png ===> train\\rook\\166.png\n",
      "Moving data\\rook\\157.png ===> train\\rook\\157.png\n",
      "Moving data\\rook\\117.png ===> train\\rook\\117.png\n",
      "Moving data\\rook\\141.png ===> train\\rook\\141.png\n",
      "Moving data\\rook\\124.png ===> train\\rook\\124.png\n",
      "Moving data\\rook\\142.png ===> train\\rook\\142.png\n",
      "Moving data\\rook\\149.png ===> train\\rook\\149.png\n",
      "Moving data\\rook\\129.png ===> train\\rook\\129.png\n",
      "Moving data\\rook\\118.png ===> train\\rook\\118.png\n",
      "Moving data\\rook\\116.png ===> train\\rook\\116.png\n",
      "Moving data\\rook\\143.png ===> train\\rook\\143.png\n",
      "Moving data\\rook\\148.png ===> train\\rook\\148.png\n",
      "Moving data\\rook\\134.png ===> train\\rook\\134.png\n",
      "Moving data\\rook\\127.png ===> train\\rook\\127.png\n"
     ]
    }
   ],
   "source": [
    "for class_name in classes:\n",
    "    \n",
    "    path = os.path.join(PATH, f'{class_name[0]}')\n",
    "    \n",
    "    for file in random.sample(os.listdir(path),\n",
    "                             int(TRAIN_PROP * class_name[1])):\n",
    "        \n",
    "        filepath = os.path.join(path, file)\n",
    "        dest = os.path.join('train', class_name[0], file)\n",
    "        \n",
    "        shutil.move(filepath, dest)\n",
    "        print(f'Moving {filepath} ===> {dest}')"
   ]
  },
  {
   "cell_type": "markdown",
   "id": "2a919e64",
   "metadata": {},
   "source": [
    "## Moving the ramaining data to test folders"
   ]
  },
  {
   "cell_type": "code",
   "execution_count": 10,
   "id": "75a0eec1",
   "metadata": {},
   "outputs": [
    {
     "name": "stdout",
     "output_type": "stream",
     "text": [
      "Moving data\\bishop\\100.png ===> test\\bishop\\100.png\n",
      "Moving data\\bishop\\45.png ===> test\\bishop\\45.png\n",
      "Moving data\\bishop\\54.png ===> test\\bishop\\54.png\n",
      "Moving data\\bishop\\56.png ===> test\\bishop\\56.png\n",
      "Moving data\\bishop\\60.png ===> test\\bishop\\60.png\n",
      "Moving data\\bishop\\61.png ===> test\\bishop\\61.png\n",
      "Moving data\\bishop\\63.png ===> test\\bishop\\63.png\n",
      "Moving data\\bishop\\64.png ===> test\\bishop\\64.png\n",
      "Moving data\\bishop\\68.png ===> test\\bishop\\68.png\n",
      "Moving data\\bishop\\77.png ===> test\\bishop\\77.png\n",
      "Moving data\\bishop\\80.png ===> test\\bishop\\80.png\n",
      "Moving data\\bishop\\89.png ===> test\\bishop\\89.png\n",
      "Moving data\\bishop\\95.png ===> test\\bishop\\95.png\n",
      "Moving data\\bishop\\99.png ===> test\\bishop\\99.png\n",
      "Moving data\\king\\10.png ===> test\\king\\10.png\n",
      "Moving data\\king\\11.png ===> test\\king\\11.png\n",
      "Moving data\\king\\15.png ===> test\\king\\15.png\n",
      "Moving data\\king\\24.png ===> test\\king\\24.png\n",
      "Moving data\\king\\26.png ===> test\\king\\26.png\n",
      "Moving data\\king\\27.png ===> test\\king\\27.png\n",
      "Moving data\\king\\4.png ===> test\\king\\4.png\n",
      "Moving data\\knight\\447.png ===> test\\knight\\447.png\n",
      "Moving data\\knight\\450.png ===> test\\knight\\450.png\n",
      "Moving data\\knight\\452.png ===> test\\knight\\452.png\n",
      "Moving data\\knight\\459.png ===> test\\knight\\459.png\n",
      "Moving data\\knight\\460.png ===> test\\knight\\460.png\n",
      "Moving data\\knight\\463.png ===> test\\knight\\463.png\n",
      "Moving data\\knight\\466.png ===> test\\knight\\466.png\n",
      "Moving data\\knight\\470.png ===> test\\knight\\470.png\n",
      "Moving data\\knight\\474.png ===> test\\knight\\474.png\n",
      "Moving data\\knight\\483.png ===> test\\knight\\483.png\n",
      "Moving data\\knight\\489.png ===> test\\knight\\489.png\n",
      "Moving data\\knight\\492.png ===> test\\knight\\492.png\n",
      "Moving data\\knight\\498.png ===> test\\knight\\498.png\n",
      "Moving data\\knight\\503.png ===> test\\knight\\503.png\n",
      "Moving data\\knight\\515.png ===> test\\knight\\515.png\n",
      "Moving data\\pawn\\208.png ===> test\\pawn\\208.png\n",
      "Moving data\\pawn\\214.png ===> test\\pawn\\214.png\n",
      "Moving data\\pawn\\215.png ===> test\\pawn\\215.png\n",
      "Moving data\\pawn\\217.png ===> test\\pawn\\217.png\n",
      "Moving data\\pawn\\225.png ===> test\\pawn\\225.png\n",
      "Moving data\\pawn\\228.png ===> test\\pawn\\228.png\n",
      "Moving data\\pawn\\229.png ===> test\\pawn\\229.png\n",
      "Moving data\\pawn\\232.png ===> test\\pawn\\232.png\n",
      "Moving data\\pawn\\234.png ===> test\\pawn\\234.png\n",
      "Moving data\\pawn\\245.png ===> test\\pawn\\245.png\n",
      "Moving data\\pawn\\250.png ===> test\\pawn\\250.png\n",
      "Moving data\\pawn\\253.png ===> test\\pawn\\253.png\n",
      "Moving data\\pawn\\257.png ===> test\\pawn\\257.png\n",
      "Moving data\\pawn\\272.png ===> test\\pawn\\272.png\n",
      "Moving data\\pawn\\275.png ===> test\\pawn\\275.png\n",
      "Moving data\\pawn\\281.png ===> test\\pawn\\281.png\n",
      "Moving data\\pawn\\286.png ===> test\\pawn\\286.png\n",
      "Moving data\\pawn\\288.png ===> test\\pawn\\288.png\n",
      "Moving data\\pawn\\295.png ===> test\\pawn\\295.png\n",
      "Moving data\\pawn\\296.png ===> test\\pawn\\296.png\n",
      "Moving data\\pawn\\299.png ===> test\\pawn\\299.png\n",
      "Moving data\\pawn\\302.png ===> test\\pawn\\302.png\n",
      "Moving data\\pawn\\307.png ===> test\\pawn\\307.png\n",
      "Moving data\\pawn\\309.png ===> test\\pawn\\309.png\n",
      "Moving data\\pawn\\317.png ===> test\\pawn\\317.png\n",
      "Moving data\\pawn\\332.png ===> test\\pawn\\332.png\n",
      "Moving data\\pawn\\333.png ===> test\\pawn\\333.png\n",
      "Moving data\\pawn\\335.png ===> test\\pawn\\335.png\n",
      "Moving data\\pawn\\339.png ===> test\\pawn\\339.png\n",
      "Moving data\\pawn\\346.png ===> test\\pawn\\346.png\n",
      "Moving data\\pawn\\352.png ===> test\\pawn\\352.png\n",
      "Moving data\\pawn\\354.png ===> test\\pawn\\354.png\n",
      "Moving data\\pawn\\365.png ===> test\\pawn\\365.png\n",
      "Moving data\\pawn\\366.png ===> test\\pawn\\366.png\n",
      "Moving data\\pawn\\367.png ===> test\\pawn\\367.png\n",
      "Moving data\\pawn\\376.png ===> test\\pawn\\376.png\n",
      "Moving data\\pawn\\388.png ===> test\\pawn\\388.png\n",
      "Moving data\\pawn\\404.png ===> test\\pawn\\404.png\n",
      "Moving data\\pawn\\407.png ===> test\\pawn\\407.png\n",
      "Moving data\\pawn\\411.png ===> test\\pawn\\411.png\n",
      "Moving data\\pawn\\412.png ===> test\\pawn\\412.png\n",
      "Moving data\\pawn\\415.png ===> test\\pawn\\415.png\n",
      "Moving data\\pawn\\420.png ===> test\\pawn\\420.png\n",
      "Moving data\\pawn\\423.png ===> test\\pawn\\423.png\n",
      "Moving data\\pawn\\431.png ===> test\\pawn\\431.png\n",
      "Moving data\\pawn\\432.png ===> test\\pawn\\432.png\n",
      "Moving data\\pawn\\434.png ===> test\\pawn\\434.png\n",
      "Moving data\\pawn\\437.png ===> test\\pawn\\437.png\n",
      "Moving data\\queen\\174.png ===> test\\queen\\174.png\n",
      "Moving data\\queen\\176.png ===> test\\queen\\176.png\n",
      "Moving data\\queen\\177.png ===> test\\queen\\177.png\n",
      "Moving data\\queen\\195.png ===> test\\queen\\195.png\n",
      "Moving data\\queen\\196.png ===> test\\queen\\196.png\n",
      "Moving data\\queen\\197.png ===> test\\queen\\197.png\n",
      "Moving data\\queen\\200.png ===> test\\queen\\200.png\n",
      "Moving data\\rook\\104.png ===> test\\rook\\104.png\n",
      "Moving data\\rook\\105.png ===> test\\rook\\105.png\n",
      "Moving data\\rook\\109.png ===> test\\rook\\109.png\n",
      "Moving data\\rook\\111.png ===> test\\rook\\111.png\n",
      "Moving data\\rook\\136.png ===> test\\rook\\136.png\n",
      "Moving data\\rook\\138.png ===> test\\rook\\138.png\n",
      "Moving data\\rook\\150.png ===> test\\rook\\150.png\n",
      "Moving data\\rook\\152.png ===> test\\rook\\152.png\n",
      "Moving data\\rook\\154.png ===> test\\rook\\154.png\n",
      "Moving data\\rook\\156.png ===> test\\rook\\156.png\n",
      "Moving data\\rook\\158.png ===> test\\rook\\158.png\n",
      "Moving data\\rook\\160.png ===> test\\rook\\160.png\n",
      "Moving data\\rook\\162.png ===> test\\rook\\162.png\n",
      "Moving data\\rook\\164.png ===> test\\rook\\164.png\n",
      "Moving data\\rook\\172.png ===> test\\rook\\172.png\n"
     ]
    }
   ],
   "source": [
    "for class_name in classes:\n",
    "    \n",
    "    path = os.path.join(PATH, f'{class_name[0]}')\n",
    "    \n",
    "    for file in os.listdir(path):\n",
    "        filepath = os.path.join(path, file)\n",
    "        dest = os.path.join('test', class_name[0], file)\n",
    "        shutil.move(filepath, dest)\n",
    "        print(f'Moving {filepath} ===> {dest}')"
   ]
  },
  {
   "cell_type": "markdown",
   "id": "facf4c30",
   "metadata": {},
   "source": [
    "## Importing the images"
   ]
  },
  {
   "cell_type": "code",
   "execution_count": 11,
   "id": "456cc262",
   "metadata": {},
   "outputs": [],
   "source": [
    "import tensorflow as tf"
   ]
  },
  {
   "cell_type": "code",
   "execution_count": 12,
   "id": "6f3ac9d1",
   "metadata": {},
   "outputs": [],
   "source": [
    "train_path = 'train'\n",
    "test_path = 'test'\n",
    "\n",
    "IMG_SIZE = (85, 85)\n",
    "BATCH_SIZE = 32"
   ]
  },
  {
   "cell_type": "code",
   "execution_count": 13,
   "id": "faf55204",
   "metadata": {
    "scrolled": false
   },
   "outputs": [
    {
     "name": "stdout",
     "output_type": "stream",
     "text": [
      "Found 411 files belonging to 6 classes.\n",
      "Found 106 files belonging to 6 classes.\n"
     ]
    }
   ],
   "source": [
    "train_data = tf.keras.preprocessing.image_dataset_from_directory(\n",
    "    directory = train_path,\n",
    "    image_size = IMG_SIZE,\n",
    "    label_mode = 'categorical',\n",
    "    batch_size = BATCH_SIZE\n",
    ")\n",
    "\n",
    "test_data = tf.keras.preprocessing.image_dataset_from_directory(\n",
    "    directory = test_path,\n",
    "    image_size = IMG_SIZE,\n",
    "    label_mode = 'categorical',\n",
    "    batch_size = BATCH_SIZE\n",
    ")"
   ]
  },
  {
   "cell_type": "code",
   "execution_count": 14,
   "id": "072daeae",
   "metadata": {},
   "outputs": [
    {
     "data": {
      "text/plain": [
       "<BatchDataset element_spec=(TensorSpec(shape=(None, 85, 85, 3), dtype=tf.float32, name=None), TensorSpec(shape=(None, 6), dtype=tf.float32, name=None))>"
      ]
     },
     "execution_count": 14,
     "metadata": {},
     "output_type": "execute_result"
    }
   ],
   "source": [
    "train_data"
   ]
  },
  {
   "cell_type": "code",
   "execution_count": 15,
   "id": "9fd03d68",
   "metadata": {},
   "outputs": [
    {
     "data": {
      "text/plain": [
       "<BatchDataset element_spec=(TensorSpec(shape=(None, 85, 85, 3), dtype=tf.float32, name=None), TensorSpec(shape=(None, 6), dtype=tf.float32, name=None))>"
      ]
     },
     "execution_count": 15,
     "metadata": {},
     "output_type": "execute_result"
    }
   ],
   "source": [
    "test_data"
   ]
  },
  {
   "cell_type": "code",
   "execution_count": 16,
   "id": "983fd030",
   "metadata": {},
   "outputs": [
    {
     "data": {
      "text/plain": [
       "'E:\\\\dev\\\\Projetos\\\\computer-vision\\\\chess-pieces-vision\\\\data'"
      ]
     },
     "execution_count": 16,
     "metadata": {},
     "output_type": "execute_result"
    }
   ],
   "source": [
    "os.getcwd()"
   ]
  },
  {
   "cell_type": "markdown",
   "id": "273cfd6d",
   "metadata": {},
   "source": [
    "### Visualizing a random image from a batch"
   ]
  },
  {
   "cell_type": "code",
   "execution_count": 17,
   "id": "3c9a3dc1",
   "metadata": {},
   "outputs": [],
   "source": [
    "def plot_random_image():\n",
    "    path = 'train'\n",
    "    target_class = random.choice(class_names)\n",
    "    path = os.path.join(path, target_class)\n",
    "    \n",
    "    random_img = random.choice(os.listdir(path))\n",
    "    random_img_path = os.path.join(path, random_img)\n",
    "    \n",
    "    # Reading the randomly selected image\n",
    "    img = mpimg.imread(random_img_path)\n",
    "    plt.imshow(img)\n",
    "    plt.title(f'Random Image of {target_class}')\n",
    "    plt.axis(False)"
   ]
  },
  {
   "cell_type": "code",
   "execution_count": 18,
   "id": "53db6ea2",
   "metadata": {
    "scrolled": true
   },
   "outputs": [
    {
     "data": {
      "image/png": "[encoded data removed]",
      "text/plain": [
       "<Figure size 432x288 with 1 Axes>"
      ]
     },
     "metadata": {
      "needs_background": "light"
     },
     "output_type": "display_data"
    }
   ],
   "source": [
    "plot_random_image()"
   ]
  },
  {
   "cell_type": "markdown",
   "id": "13bd9397",
   "metadata": {},
   "source": [
    "## Creating a model"
   ]
  },
  {
   "cell_type": "code",
   "execution_count": 19,
   "id": "100b2abc",
   "metadata": {},
   "outputs": [],
   "source": [
    "input_shape = IMG_SIZE + (3,)"
   ]
  },
  {
   "cell_type": "code",
   "execution_count": 20,
   "id": "8b12ce03",
   "metadata": {},
   "outputs": [],
   "source": [
    "from tensorflow.keras.layers import Input, Dense, Conv2D, MaxPool2D, Flatten\n",
    "from tensorflow.keras.models import Model"
   ]
  },
  {
   "cell_type": "code",
   "execution_count": 147,
   "id": "00b1b966",
   "metadata": {},
   "outputs": [],
   "source": [
    "from tensorflow.keras import layers\n",
    "from tensorflow.keras.layers.experimental import preprocessing\n",
    "\n",
    "# Input layer\n",
    "inputs = Input(shape=input_shape, name='input_layer')\n",
    "\n",
    "# Adding data augmentation\n",
    "\n",
    "x = preprocessing.Rescaling(1/255., name='first_data_aug')(inputs)\n",
    "x = preprocessing.RandomRotation(0.1)(x)\n",
    "x = preprocessing.RandomFlip('horizontal')(x)\n",
    "x = preprocessing.RandomZoom(0.01)(x)\n",
    "data_augmentation = preprocessing.RandomZoom(0.1)(x)\n",
    "\n",
    "\n",
    "# First Conv2D\n",
    "x = Conv2D(filters=16, \n",
    "          kernel_size=3,\n",
    "          activation='relu')(data_augmentation)\n",
    "\n",
    "# Second Conv2D\n",
    "x = Conv2D(filters=16,\n",
    "          kernel_size=3,\n",
    "          activation='relu')(x)\n",
    "\n",
    "# First MaxPool2D\n",
    "x = MaxPool2D(pool_size=(2,2))(x)\n",
    "\n",
    "# Third Conv2D\n",
    "x = Conv2D(filters=32,\n",
    "          kernel_size=3,\n",
    "          activation='relu')(x)\n",
    "\n",
    "# Second MaxPool2D\n",
    "x = MaxPool2D(pool_size=(2,2))(x)\n",
    "\n",
    "# Flatten\n",
    "x = Flatten()(x)\n",
    "\n",
    "# Output layer\n",
    "output = Dense(6, \n",
    "               activation='softmax', \n",
    "               name='output_layer')(x)\n",
    "\n",
    "#Create the model\n",
    "model = Model(inputs=inputs, outputs=output)"
   ]
  },
  {
   "cell_type": "code",
   "execution_count": 148,
   "id": "d84d2e4a",
   "metadata": {},
   "outputs": [
    {
     "name": "stdout",
     "output_type": "stream",
     "text": [
      "Epoch 1/15\n",
      "13/13 [==============================] - 2s 115ms/step - loss: 1.5975 - accuracy: 0.4380 - val_loss: 1.4756 - val_accuracy: 0.4528\n",
      "Epoch 2/15\n",
      "13/13 [==============================] - 1s 105ms/step - loss: 1.4119 - accuracy: 0.4769 - val_loss: 1.1491 - val_accuracy: 0.5566\n",
      "Epoch 3/15\n",
      "13/13 [==============================] - 2s 113ms/step - loss: 1.0110 - accuracy: 0.6156 - val_loss: 0.6351 - val_accuracy: 0.8208\n",
      "Epoch 4/15\n",
      "13/13 [==============================] - 2s 113ms/step - loss: 0.6302 - accuracy: 0.8078 - val_loss: 0.4251 - val_accuracy: 0.8585\n",
      "Epoch 5/15\n",
      "13/13 [==============================] - 2s 113ms/step - loss: 0.5160 - accuracy: 0.8467 - val_loss: 0.3109 - val_accuracy: 0.8774\n",
      "Epoch 6/15\n",
      "13/13 [==============================] - 2s 113ms/step - loss: 0.4555 - accuracy: 0.8540 - val_loss: 0.3290 - val_accuracy: 0.8774\n",
      "Epoch 7/15\n",
      "13/13 [==============================] - 1s 108ms/step - loss: 0.3706 - accuracy: 0.8954 - val_loss: 0.2709 - val_accuracy: 0.9245\n",
      "Epoch 8/15\n",
      "13/13 [==============================] - 1s 106ms/step - loss: 0.3687 - accuracy: 0.8905 - val_loss: 0.1745 - val_accuracy: 0.9340\n",
      "Epoch 9/15\n",
      "13/13 [==============================] - 1s 105ms/step - loss: 0.2834 - accuracy: 0.9246 - val_loss: 0.1864 - val_accuracy: 0.9245\n",
      "Epoch 10/15\n",
      "13/13 [==============================] - 1s 107ms/step - loss: 0.2607 - accuracy: 0.9100 - val_loss: 0.1725 - val_accuracy: 0.9434\n",
      "Epoch 11/15\n",
      "13/13 [==============================] - 1s 106ms/step - loss: 0.2684 - accuracy: 0.9100 - val_loss: 0.1621 - val_accuracy: 0.9528\n",
      "Epoch 12/15\n",
      "13/13 [==============================] - 1s 107ms/step - loss: 0.1896 - accuracy: 0.9465 - val_loss: 0.1664 - val_accuracy: 0.9434\n",
      "Epoch 13/15\n",
      "13/13 [==============================] - 2s 112ms/step - loss: 0.2135 - accuracy: 0.9319 - val_loss: 0.1479 - val_accuracy: 0.9528\n",
      "Epoch 14/15\n",
      "13/13 [==============================] - 1s 108ms/step - loss: 0.1944 - accuracy: 0.9392 - val_loss: 0.1505 - val_accuracy: 0.9434\n",
      "Epoch 15/15\n",
      "13/13 [==============================] - 1s 106ms/step - loss: 0.1562 - accuracy: 0.9611 - val_loss: 0.1584 - val_accuracy: 0.9623\n"
     ]
    }
   ],
   "source": [
    "# Compile the model\n",
    "model.compile(loss='categorical_crossentropy',\n",
    "             optimizer=tf.keras.optimizers.Adam(),\n",
    "             metrics=['accuracy'])\n",
    "\n",
    "# Fit the model\n",
    "hist = model.fit(train_data,\n",
    "          epochs=15,\n",
    "         validation_data=test_data,\n",
    "         steps_per_epoch=len(train_data),\n",
    "         validation_steps=len(test_data))"
   ]
  },
  {
   "cell_type": "markdown",
   "id": "4e2838dc",
   "metadata": {},
   "source": [
    "## 96.23% Validation Accuracy!"
   ]
  },
  {
   "cell_type": "code",
   "execution_count": 149,
   "id": "af7a6698",
   "metadata": {},
   "outputs": [
    {
     "data": {
      "text/plain": [
       "<AxesSubplot:>"
      ]
     },
     "execution_count": 149,
     "metadata": {},
     "output_type": "execute_result"
    },
    {
     "data": {
      "image/png": "[encoded data removed]",
      "text/plain": [
       "<Figure size 432x288 with 1 Axes>"
      ]
     },
     "metadata": {
      "needs_background": "light"
     },
     "output_type": "display_data"
    }
   ],
   "source": [
    "import pandas as pd\n",
    "pd.DataFrame(hist.history).plot()"
   ]
  },
  {
   "cell_type": "markdown",
   "id": "6cd5dd61",
   "metadata": {},
   "source": [
    "### Making predictions"
   ]
  },
  {
   "cell_type": "code",
   "execution_count": 221,
   "id": "7b3d133e",
   "metadata": {},
   "outputs": [],
   "source": [
    "def plot_predict(model):\n",
    "    \"\"\"\n",
    "    Imports a random image, predicts on it and plot\n",
    "    \"\"\"\n",
    "    class_name = random.choice(class_names)\n",
    "    \n",
    "    path = os.path.join('test', class_name)\n",
    "\n",
    "    random_image = random.choice(os.listdir(path))\n",
    "    imagepath = os.path.join(path, random_image)\n",
    "    \n",
    "    image = tf.io.read_file(imagepath)\n",
    "    image = tf.image.decode_image(image)\n",
    "  \n",
    "    plt.imshow(image)\n",
    "    plt.axis('off')\n",
    "    \n",
    "    pred = model.predict(tf.expand_dims(image, axis=0))\n",
    "    \n",
    "    pred_class = class_names[tf.argmax(tf.squeeze(pred))]\n",
    "    \n",
    "    confidence = tf.reduce_max(tf.squeeze(pred)) * 100\n",
    "    \n",
    "    \n",
    "    color ='green' if (class_name == pred_class) else'red'\n",
    "    \n",
    "    plt.title(f'Class: {class_name} | Predicted {pred_class} {confidence:.2f} %',\n",
    "             color=color)"
   ]
  },
  {
   "cell_type": "code",
   "execution_count": 237,
   "id": "c84d15ba",
   "metadata": {},
   "outputs": [
    {
     "name": "stdout",
     "output_type": "stream",
     "text": [
      "1/1 [==============================] - 0s 14ms/step\n"
     ]
    },
    {
     "data": {
      "image/png": "[encoded data removed]",
      "text/plain": [
       "<Figure size 432x288 with 1 Axes>"
      ]
     },
     "metadata": {
      "needs_background": "light"
     },
     "output_type": "display_data"
    }
   ],
   "source": [
    "plot_predict(model)"
   ]
  },
  {
   "cell_type": "code",
   "execution_count": 238,
   "id": "de292ef5",
   "metadata": {},
   "outputs": [
    {
     "name": "stdout",
     "output_type": "stream",
     "text": [
      "Model: \"model_8\"\n",
      "_________________________________________________________________\n",
      " Layer (type)                Output Shape              Param #   \n",
      "=================================================================\n",
      " input_layer (InputLayer)    [(None, 85, 85, 3)]       0         \n",
      "                                                                 \n",
      " first_data_aug (Rescaling)  (None, 85, 85, 3)         0         \n",
      "                                                                 \n",
      " random_rotation_7 (RandomRo  (None, 85, 85, 3)        0         \n",
      " tation)                                                         \n",
      "                                                                 \n",
      " random_flip_8 (RandomFlip)  (None, 85, 85, 3)         0         \n",
      "                                                                 \n",
      " random_zoom_16 (RandomZoom)  (None, 85, 85, 3)        0         \n",
      "                                                                 \n",
      " random_zoom_17 (RandomZoom)  (None, 85, 85, 3)        0         \n",
      "                                                                 \n",
      " conv2d_24 (Conv2D)          (None, 83, 83, 16)        448       \n",
      "                                                                 \n",
      " conv2d_25 (Conv2D)          (None, 81, 81, 16)        2320      \n",
      "                                                                 \n",
      " max_pooling2d_16 (MaxPoolin  (None, 40, 40, 16)       0         \n",
      " g2D)                                                            \n",
      "                                                                 \n",
      " conv2d_26 (Conv2D)          (None, 38, 38, 32)        4640      \n",
      "                                                                 \n",
      " max_pooling2d_17 (MaxPoolin  (None, 19, 19, 32)       0         \n",
      " g2D)                                                            \n",
      "                                                                 \n",
      " flatten_8 (Flatten)         (None, 11552)             0         \n",
      "                                                                 \n",
      " output_layer (Dense)        (None, 6)                 69318     \n",
      "                                                                 \n",
      "=================================================================\n",
      "Total params: 76,726\n",
      "Trainable params: 76,726\n",
      "Non-trainable params: 0\n",
      "_________________________________________________________________\n"
     ]
    }
   ],
   "source": [
    "model.summary()"
   ]
  }
 ],
 "metadata": {
  "kernelspec": {
   "display_name": "Python 3 (ipykernel)",
   "language": "python",
   "name": "python3"
  },
  "language_info": {
   "codemirror_mode": {
    "name": "ipython",
    "version": 3
   },
   "file_extension": ".py",
   "mimetype": "text/x-python",
   "name": "python",
   "nbconvert_exporter": "python",
   "pygments_lexer": "ipython3",
   "version": "3.9.7"
  }
 },
 "nbformat": 4,
 "nbformat_minor": 5
}
